{
 "cells": [
  {
   "cell_type": "code",
   "execution_count": 1,
   "id": "bf5c28b1",
   "metadata": {},
   "outputs": [
    {
     "data": {
      "text/plain": [
       "'2.6.0'"
      ]
     },
     "execution_count": 1,
     "metadata": {},
     "output_type": "execute_result"
    }
   ],
   "source": [
    "import torch\n",
    "torch.__version__"
   ]
  },
  {
   "cell_type": "code",
   "execution_count": 2,
   "id": "3f234806",
   "metadata": {},
   "outputs": [
    {
     "data": {
      "text/plain": [
       "(True, False)"
      ]
     },
     "execution_count": 2,
     "metadata": {},
     "output_type": "execute_result"
    }
   ],
   "source": [
    "torch.backends.mps.is_available(), torch.cuda.is_available()"
   ]
  },
  {
   "cell_type": "markdown",
   "id": "33aa9d77",
   "metadata": {},
   "source": [
    "### Device (Apple Silicon here)"
   ]
  },
  {
   "cell_type": "code",
   "execution_count": 3,
   "id": "b657f3f2",
   "metadata": {},
   "outputs": [
    {
     "data": {
      "text/plain": [
       "device(type='mps')"
      ]
     },
     "execution_count": 3,
     "metadata": {},
     "output_type": "execute_result"
    }
   ],
   "source": [
    "device = torch.device(\"mps\")\n",
    "device"
   ]
  },
  {
   "cell_type": "markdown",
   "id": "dbd3159d",
   "metadata": {},
   "source": [
    "## Initializing tensors"
   ]
  },
  {
   "cell_type": "code",
   "execution_count": 4,
   "id": "909f4409",
   "metadata": {},
   "outputs": [
    {
     "data": {
      "text/plain": [
       "tensor([[1, 2, 3]], device='mps:0', dtype=torch.int16)"
      ]
     },
     "execution_count": 4,
     "metadata": {},
     "output_type": "execute_result"
    }
   ],
   "source": [
    "t1 = torch.tensor([[1, 2, 3]], dtype=torch.int16, device=device)\n",
    "t1"
   ]
  },
  {
   "cell_type": "code",
   "execution_count": 5,
   "id": "8bdd7fd3",
   "metadata": {},
   "outputs": [
    {
     "data": {
      "text/plain": [
       "(device(type='mps', index=0),\n",
       " tensor([[1, 2, 3]], device='mps:0', dtype=torch.int16),\n",
       " 2,\n",
       " <function Tensor.dim()>,\n",
       " torch.Size([1, 3]),\n",
       " <function Tensor.size>)"
      ]
     },
     "execution_count": 5,
     "metadata": {},
     "output_type": "execute_result"
    }
   ],
   "source": [
    "t1.device, t1.data, t1.ndim, t1.dim, t1.shape, t1.size"
   ]
  },
  {
   "cell_type": "code",
   "execution_count": 6,
   "id": "529ce069",
   "metadata": {},
   "outputs": [
    {
     "data": {
      "text/plain": [
       "(tensor(1, device='mps:0', dtype=torch.int16),\n",
       " tensor([1, 2, 3], device='mps:0', dtype=torch.int16))"
      ]
     },
     "execution_count": 6,
     "metadata": {},
     "output_type": "execute_result"
    }
   ],
   "source": [
    "t1[0][0], t1[0]"
   ]
  },
  {
   "cell_type": "code",
   "execution_count": 7,
   "id": "e2a9b5ee",
   "metadata": {},
   "outputs": [
    {
     "data": {
      "text/plain": [
       "(tensor(5), 0, torch.Size([]), torch.int64)"
      ]
     },
     "execution_count": 7,
     "metadata": {},
     "output_type": "execute_result"
    }
   ],
   "source": [
    "scalar = torch.tensor(5)\n",
    "scalar, scalar.ndim, scalar.shape, scalar.dtype"
   ]
  },
  {
   "cell_type": "code",
   "execution_count": 8,
   "id": "59dc4f46",
   "metadata": {},
   "outputs": [
    {
     "data": {
      "text/plain": [
       "(tensor([1, 3]), 1, torch.Size([2]), torch.int64)"
      ]
     },
     "execution_count": 8,
     "metadata": {},
     "output_type": "execute_result"
    }
   ],
   "source": [
    "vector = torch.tensor([1, 3])\n",
    "vector, vector.ndim, vector.shape, vector.dtype"
   ]
  },
  {
   "cell_type": "code",
   "execution_count": 9,
   "id": "d92f18ed",
   "metadata": {},
   "outputs": [],
   "source": [
    "# t1.item(), scalar.item(), vector.item()"
   ]
  },
  {
   "cell_type": "code",
   "execution_count": 10,
   "id": "251b0608",
   "metadata": {},
   "outputs": [
    {
     "data": {
      "text/plain": [
       "5"
      ]
     },
     "execution_count": 10,
     "metadata": {},
     "output_type": "execute_result"
    }
   ],
   "source": [
    "# So, .item() only works for scalar element\n",
    "\n",
    "scalar.item()"
   ]
  },
  {
   "cell_type": "code",
   "execution_count": 11,
   "id": "06e3fd67",
   "metadata": {},
   "outputs": [
    {
     "data": {
      "text/plain": [
       "(tensor([6]),\n",
       " 6,\n",
       " 1,\n",
       " torch.Size([1]),\n",
       " tensor([[1., 4.],\n",
       "         [5., 3.]], device='mps:0'),\n",
       " 2,\n",
       " torch.Size([2, 2]))"
      ]
     },
     "execution_count": 11,
     "metadata": {},
     "output_type": "execute_result"
    }
   ],
   "source": [
    "matrix = torch.tensor([[1, 4], [5, 3]], dtype=torch.float32, device=device)\n",
    "scalar2 = torch.tensor([6])\n",
    "scalar2, scalar2.item(), scalar2.ndim, scalar2.shape, matrix, matrix.ndim, matrix.shape"
   ]
  },
  {
   "cell_type": "code",
   "execution_count": 12,
   "id": "26999f69",
   "metadata": {},
   "outputs": [
    {
     "data": {
      "text/plain": [
       "(tensor([[[1, 3, 5],\n",
       "          [3, 6, 8],\n",
       "          [1, 2, 3]]]),\n",
       " 3,\n",
       " torch.Size([1, 3, 3]),\n",
       " torch.Size([1, 3, 3]))"
      ]
     },
     "execution_count": 12,
     "metadata": {},
     "output_type": "execute_result"
    }
   ],
   "source": [
    "tensor = torch.tensor([[[1, 3, 5], [3, 6, 8], [1, 2, 3]]])\n",
    "tensor, tensor.ndim, tensor.shape, tensor.size()"
   ]
  },
  {
   "cell_type": "markdown",
   "id": "d929e165",
   "metadata": {},
   "source": [
    "## Initializing Random tensors"
   ]
  },
  {
   "cell_type": "code",
   "execution_count": 13,
   "id": "23a3622b",
   "metadata": {},
   "outputs": [
    {
     "data": {
      "text/plain": [
       "(tensor([[[0.0283, 0.8301, 0.2676],\n",
       "          [0.7378, 0.4502, 0.0269],\n",
       "          [0.9785, 0.8896, 0.8062]],\n",
       " \n",
       "         [[0.0439, 0.1187, 0.5405],\n",
       "          [0.1138, 0.7256, 0.6338],\n",
       "          [0.4810, 0.5610, 0.6934]],\n",
       " \n",
       "         [[0.7461, 0.6890, 0.1426],\n",
       "          [0.1719, 0.8516, 0.8970],\n",
       "          [0.4233, 0.4683, 0.6089]]], dtype=torch.float16),\n",
       " tensor([[[0.0283, 0.8301, 0.2676],\n",
       "          [0.7378, 0.4502, 0.0269],\n",
       "          [0.9785, 0.8896, 0.8062]],\n",
       " \n",
       "         [[0.0439, 0.1187, 0.5405],\n",
       "          [0.1138, 0.7256, 0.6338],\n",
       "          [0.4810, 0.5610, 0.6934]],\n",
       " \n",
       "         [[0.7461, 0.6890, 0.1426],\n",
       "          [0.1719, 0.8516, 0.8970],\n",
       "          [0.4233, 0.4683, 0.6089]]], device='mps:0', dtype=torch.float16))"
      ]
     },
     "execution_count": 13,
     "metadata": {},
     "output_type": "execute_result"
    }
   ],
   "source": [
    "rand = torch.rand(size=(3, 3, 3), dtype=torch.float16)\n",
    "rand2 = rand.to(device=device)\n",
    "rand, rand2"
   ]
  },
  {
   "cell_type": "code",
   "execution_count": 14,
   "id": "d2919773",
   "metadata": {},
   "outputs": [
    {
     "data": {
      "text/plain": [
       "tensor([[[0, 0, 0],\n",
       "         [0, 0, 0],\n",
       "         [0, 0, 0]],\n",
       "\n",
       "        [[0, 0, 0],\n",
       "         [0, 0, 0],\n",
       "         [0, 0, 0]],\n",
       "\n",
       "        [[0, 0, 0],\n",
       "         [0, 0, 0],\n",
       "         [0, 0, 0]]], device='mps:0', dtype=torch.int16)"
      ]
     },
     "execution_count": 14,
     "metadata": {},
     "output_type": "execute_result"
    }
   ],
   "source": [
    "rand2.to(dtype=torch.int16)"
   ]
  },
  {
   "cell_type": "code",
   "execution_count": 15,
   "id": "77788427",
   "metadata": {},
   "outputs": [
    {
     "data": {
      "text/plain": [
       "(tensor([[0.0283, 0.8301, 0.2676],\n",
       "         [0.7378, 0.4502, 0.0269],\n",
       "         [0.9785, 0.8896, 0.8062]], device='mps:0', dtype=torch.float16),\n",
       " tensor([0.0283, 0.8301, 0.2676], device='mps:0', dtype=torch.float16),\n",
       " tensor(0.0283, device='mps:0', dtype=torch.float16))"
      ]
     },
     "execution_count": 15,
     "metadata": {},
     "output_type": "execute_result"
    }
   ],
   "source": [
    "rand2[0], rand2[0][0], rand2[0][0][0]"
   ]
  },
  {
   "cell_type": "code",
   "execution_count": 16,
   "id": "ae2284d4",
   "metadata": {},
   "outputs": [
    {
     "data": {
      "text/plain": [
       "tensor([[18., 22., 18.],\n",
       "        [21., 10., 21.],\n",
       "        [18., 17., 25.]], device='mps:0', dtype=torch.float16)"
      ]
     },
     "execution_count": 16,
     "metadata": {},
     "output_type": "execute_result"
    }
   ],
   "source": [
    "# Random int\n",
    "torch.randint(low=10, high=30, size=(3, 3), dtype=torch.float16, device=device)"
   ]
  },
  {
   "cell_type": "code",
   "execution_count": 17,
   "id": "d273d32a",
   "metadata": {},
   "outputs": [
    {
     "data": {
      "text/plain": [
       "(tensor([-0.6607, -0.9045, -0.5073, -0.7541,  0.0207]),\n",
       " tensor([[-0.6822,  1.0291],\n",
       "         [-0.2884, -1.6073],\n",
       "         [ 0.5737, -0.1332]]))"
      ]
     },
     "execution_count": 17,
     "metadata": {},
     "output_type": "execute_result"
    }
   ],
   "source": [
    "# Random distribution\n",
    "torch.randn(5), torch.randn(3, 2)"
   ]
  },
  {
   "cell_type": "markdown",
   "id": "dc9944e1",
   "metadata": {},
   "source": [
    "## Other tensors"
   ]
  },
  {
   "cell_type": "code",
   "execution_count": 18,
   "id": "34d0d6f5",
   "metadata": {},
   "outputs": [
    {
     "data": {
      "text/plain": [
       "tensor([[0., 0., 0.],\n",
       "        [0., 0., 0.]])"
      ]
     },
     "execution_count": 18,
     "metadata": {},
     "output_type": "execute_result"
    }
   ],
   "source": [
    "# Zeros\n",
    "\n",
    "torch.zeros(2, 3)"
   ]
  },
  {
   "cell_type": "code",
   "execution_count": 19,
   "id": "e7e37cc4",
   "metadata": {},
   "outputs": [
    {
     "data": {
      "text/plain": [
       "tensor([[1.],\n",
       "        [1.],\n",
       "        [1.]])"
      ]
     },
     "execution_count": 19,
     "metadata": {},
     "output_type": "execute_result"
    }
   ],
   "source": [
    "# Ones\n",
    "torch.ones(3, 1)"
   ]
  },
  {
   "cell_type": "code",
   "execution_count": 20,
   "id": "2f682131",
   "metadata": {},
   "outputs": [
    {
     "data": {
      "text/plain": [
       "tensor([0.0000, 0.1000, 0.2000, 0.3000, 0.4000, 0.5000, 0.6000, 0.7000, 0.8000,\n",
       "        0.9000, 1.0000])"
      ]
     },
     "execution_count": 20,
     "metadata": {},
     "output_type": "execute_result"
    }
   ],
   "source": [
    "# range\n",
    "torch.arange(start=0, end=1.1, step=0.1)"
   ]
  },
  {
   "cell_type": "code",
   "execution_count": 21,
   "id": "21011586",
   "metadata": {},
   "outputs": [
    {
     "data": {
      "text/plain": [
       "(tensor([[0., 0., 0.],\n",
       "         [0., 0., 0.],\n",
       "         [0., 0., 0.]]),\n",
       " torch.Size([3, 3]),\n",
       " 2,\n",
       " tensor(0.),\n",
       " torch.float32)"
      ]
     },
     "execution_count": 21,
     "metadata": {},
     "output_type": "execute_result"
    }
   ],
   "source": [
    "empty = torch.empty(3, 3)\n",
    "empty, empty.size(), empty.ndim, empty.sum(), empty.dtype"
   ]
  },
  {
   "cell_type": "code",
   "execution_count": 22,
   "id": "da786a23",
   "metadata": {},
   "outputs": [
    {
     "data": {
      "text/plain": [
       "tensor([[1., 1., 1.],\n",
       "        [1., 1., 1.],\n",
       "        [1., 1., 1.]])"
      ]
     },
     "execution_count": 22,
     "metadata": {},
     "output_type": "execute_result"
    }
   ],
   "source": [
    "# Alike tensors: of the same size\n",
    "torch.ones_like(empty)"
   ]
  },
  {
   "cell_type": "markdown",
   "id": "1c873667",
   "metadata": {},
   "source": [
    "## Tensor datatypes\n",
    "\n",
    "- **int, uint:** 8bit, 16bit, 32bit, 64 bit\n",
    "- **float, complex:** 16bit, 32bit, 64bit\n",
    "- **Quantized int:** quint8, qint8\n",
    "- etc\n",
    "\n",
    "Lower precisions may faster models but will lower the performances."
   ]
  },
  {
   "cell_type": "code",
   "execution_count": 23,
   "id": "2bc0d975",
   "metadata": {},
   "outputs": [
    {
     "data": {
      "text/plain": [
       "(tensor([3, 6]),\n",
       " torch.int64,\n",
       " tensor([3., 6.]),\n",
       " torch.float32,\n",
       " tensor([3., 6.], dtype=torch.float16),\n",
       " torch.float16,\n",
       " tensor([3.1000, 6.6400]),\n",
       " torch.float32)"
      ]
     },
     "execution_count": 23,
     "metadata": {},
     "output_type": "execute_result"
    }
   ],
   "source": [
    "dt1 = torch.tensor([3, 6])\n",
    "dt2 = torch.tensor([3, 6.0])\n",
    "dt3 = torch.tensor([3, 6.0], dtype=torch.float16)\n",
    "dt4 = torch.tensor([3.1, 6.64])\n",
    "\n",
    "dt1, dt1.dtype, dt2, dt2.dtype, dt3, dt3.dtype, dt4, dt4.dtype"
   ]
  },
  {
   "cell_type": "markdown",
   "id": "8f7f85be",
   "metadata": {},
   "source": [
    "So, float32 is default"
   ]
  },
  {
   "cell_type": "markdown",
   "id": "c4bb3720",
   "metadata": {},
   "source": [
    "## Manipulating tensors"
   ]
  },
  {
   "cell_type": "code",
   "execution_count": 24,
   "id": "03a70546",
   "metadata": {},
   "outputs": [
    {
     "data": {
      "text/plain": [
       "(tensor([13, 16]), tensor([30, 60]), tensor([103, 106]))"
      ]
     },
     "execution_count": 24,
     "metadata": {},
     "output_type": "execute_result"
    }
   ],
   "source": [
    "# addition\n",
    "\n",
    "dt1 + 10, dt1 * 10, dt1 + 10 * 10"
   ]
  },
  {
   "cell_type": "code",
   "execution_count": 25,
   "id": "cdbd11ef",
   "metadata": {},
   "outputs": [
    {
     "data": {
      "text/plain": [
       "tensor(9)"
      ]
     },
     "execution_count": 25,
     "metadata": {},
     "output_type": "execute_result"
    }
   ],
   "source": [
    "dt1.sum()"
   ]
  },
  {
   "cell_type": "code",
   "execution_count": 26,
   "id": "956666be",
   "metadata": {},
   "outputs": [
    {
     "data": {
      "text/plain": [
       "(tensor([[[1, 3, 5],\n",
       "          [3, 6, 8],\n",
       "          [1, 2, 3]]]),\n",
       " tensor([[ 9, 17,  6]]),\n",
       " tensor([[ 5, 11, 16]]))"
      ]
     },
     "execution_count": 26,
     "metadata": {},
     "output_type": "execute_result"
    }
   ],
   "source": [
    "tensor, tensor.sum(dim=2), tensor.sum(dim=1)"
   ]
  },
  {
   "cell_type": "code",
   "execution_count": 27,
   "id": "7665703c",
   "metadata": {},
   "outputs": [
    {
     "data": {
      "text/plain": [
       "(tensor([[[10, 30, 50],\n",
       "          [30, 60, 80],\n",
       "          [10, 20, 30]]]),\n",
       " tensor([[[10, 30, 50],\n",
       "          [30, 60, 80],\n",
       "          [10, 20, 30]]]))"
      ]
     },
     "execution_count": 27,
     "metadata": {},
     "output_type": "execute_result"
    }
   ],
   "source": [
    "# Multiplication\n",
    "\n",
    "tensor.multiply(10), tensor.mul(10)"
   ]
  },
  {
   "cell_type": "code",
   "execution_count": 28,
   "id": "c2589280",
   "metadata": {},
   "outputs": [
    {
     "data": {
      "text/plain": [
       "(tensor([[[1, 3, 5],\n",
       "          [3, 6, 8],\n",
       "          [1, 2, 3]]]),\n",
       " tensor([[[ 1,  9, 25],\n",
       "          [ 9, 36, 64],\n",
       "          [ 1,  4,  9]]]),\n",
       " tensor([[[ 1,  9, 25],\n",
       "          [ 9, 36, 64],\n",
       "          [ 1,  4,  9]]]))"
      ]
     },
     "execution_count": 28,
     "metadata": {},
     "output_type": "execute_result"
    }
   ],
   "source": [
    "# multiplication \n",
    "\n",
    "tensor, tensor.mul(tensor), tensor * tensor"
   ]
  },
  {
   "cell_type": "markdown",
   "id": "8d9a85cb",
   "metadata": {},
   "source": [
    "## Dot product"
   ]
  },
  {
   "cell_type": "code",
   "execution_count": 29,
   "id": "7639ea39",
   "metadata": {},
   "outputs": [
    {
     "data": {
      "text/plain": [
       "(tensor([[[1, 3, 5],\n",
       "          [3, 6, 8],\n",
       "          [1, 2, 3]]]),\n",
       " tensor([[[15, 31, 44],\n",
       "          [29, 61, 87],\n",
       "          [10, 21, 30]]]),\n",
       " tensor([[[15, 31, 44],\n",
       "          [29, 61, 87],\n",
       "          [10, 21, 30]]]))"
      ]
     },
     "execution_count": 29,
     "metadata": {},
     "output_type": "execute_result"
    }
   ],
   "source": [
    "tensor, torch.matmul(tensor, tensor), tensor @ tensor"
   ]
  },
  {
   "cell_type": "code",
   "execution_count": 30,
   "id": "1506db35",
   "metadata": {},
   "outputs": [
    {
     "name": "stdout",
     "output_type": "stream",
     "text": [
      "CPU times: user 49 μs, sys: 6 μs, total: 55 μs\n",
      "Wall time: 37.2 μs\n"
     ]
    },
    {
     "data": {
      "text/plain": [
       "tensor([[[15, 31, 44],\n",
       "         [29, 61, 87],\n",
       "         [10, 21, 30]]])"
      ]
     },
     "execution_count": 30,
     "metadata": {},
     "output_type": "execute_result"
    }
   ],
   "source": [
    "%%time\n",
    "\n",
    "torch.matmul(tensor, tensor)"
   ]
  },
  {
   "cell_type": "code",
   "execution_count": 31,
   "id": "2301879d",
   "metadata": {},
   "outputs": [
    {
     "name": "stdout",
     "output_type": "stream",
     "text": [
      "CPU times: user 176 μs, sys: 161 μs, total: 337 μs\n",
      "Wall time: 269 μs\n"
     ]
    },
    {
     "data": {
      "text/plain": [
       "tensor([[[15, 31, 44],\n",
       "         [29, 61, 87],\n",
       "         [10, 21, 30]]])"
      ]
     },
     "execution_count": 31,
     "metadata": {},
     "output_type": "execute_result"
    }
   ],
   "source": [
    "%%time\n",
    "\n",
    "tensor @ tensor"
   ]
  },
  {
   "cell_type": "markdown",
   "id": "b30b5049",
   "metadata": {},
   "source": [
    "So, @ is faster"
   ]
  },
  {
   "cell_type": "code",
   "execution_count": 32,
   "id": "10b8710e",
   "metadata": {},
   "outputs": [
    {
     "data": {
      "text/plain": [
       "(torch.Size([3, 2]), torch.Size([3, 2]), torch.Size([2, 3]))"
      ]
     },
     "execution_count": 32,
     "metadata": {},
     "output_type": "execute_result"
    }
   ],
   "source": [
    "tensor_A = torch.tensor([[1, 2],\n",
    "                         [3, 4],\n",
    "                         [5, 6]], dtype=torch.float32)\n",
    "\n",
    "tensor_B = torch.tensor([[7, 10],\n",
    "                         [8, 11], \n",
    "                         [9, 12]], dtype=torch.float32)\n",
    "\n",
    "tensor_A.shape, tensor_B.shape, tensor_A.T.shape"
   ]
  },
  {
   "cell_type": "code",
   "execution_count": 33,
   "id": "500c4308",
   "metadata": {},
   "outputs": [
    {
     "data": {
      "text/plain": [
       "(tensor([[ 1.,  4.],\n",
       "         [ 9., 16.],\n",
       "         [25., 36.]]),\n",
       " tensor([[ 1.,  4.],\n",
       "         [ 9., 16.],\n",
       "         [25., 36.]]))"
      ]
     },
     "execution_count": 33,
     "metadata": {},
     "output_type": "execute_result"
    }
   ],
   "source": [
    "tensor_A * tensor_A, torch.mul(tensor_A, tensor_A)"
   ]
  },
  {
   "cell_type": "code",
   "execution_count": 34,
   "id": "c652a7b4",
   "metadata": {},
   "outputs": [
    {
     "data": {
      "text/plain": [
       "(tensor([[ 7., 20.],\n",
       "         [24., 44.],\n",
       "         [45., 72.]]),\n",
       " tensor([[ 7., 20.],\n",
       "         [24., 44.],\n",
       "         [45., 72.]]))"
      ]
     },
     "execution_count": 34,
     "metadata": {},
     "output_type": "execute_result"
    }
   ],
   "source": [
    "tensor_A * tensor_B, torch.mul(tensor_A, tensor_B)"
   ]
  },
  {
   "cell_type": "code",
   "execution_count": 35,
   "id": "09ffa72f",
   "metadata": {},
   "outputs": [
    {
     "data": {
      "text/plain": [
       "tensor([[ 5., 11., 17.],\n",
       "        [11., 25., 39.],\n",
       "        [17., 39., 61.]])"
      ]
     },
     "execution_count": 35,
     "metadata": {},
     "output_type": "execute_result"
    }
   ],
   "source": [
    "torch.matmul(tensor_A, tensor_A.T)"
   ]
  },
  {
   "cell_type": "code",
   "execution_count": 36,
   "id": "d5f2e354",
   "metadata": {},
   "outputs": [
    {
     "data": {
      "text/plain": [
       "tensor([[ 5., 11., 17.],\n",
       "        [11., 25., 39.],\n",
       "        [17., 39., 61.]])"
      ]
     },
     "execution_count": 36,
     "metadata": {},
     "output_type": "execute_result"
    }
   ],
   "source": [
    "torch.mm(tensor_A, tensor_A.T)"
   ]
  },
  {
   "cell_type": "markdown",
   "id": "ea436bca",
   "metadata": {},
   "source": [
    "### Linear layer example"
   ]
  },
  {
   "cell_type": "code",
   "execution_count": 39,
   "id": "ad7ca5e9",
   "metadata": {},
   "outputs": [
    {
     "data": {
      "text/plain": [
       "(Linear(in_features=4, out_features=1, bias=True), torch.Size([30, 4]))"
      ]
     },
     "execution_count": 39,
     "metadata": {},
     "output_type": "execute_result"
    }
   ],
   "source": [
    "linear = torch.nn.Linear(in_features=4, out_features=1, device=device)\n",
    "\n",
    "inp = torch.rand(size=(30, 4), device=device)\n",
    "linear, inp.shape"
   ]
  },
  {
   "cell_type": "code",
   "execution_count": 40,
   "id": "5c3ccb8d",
   "metadata": {},
   "outputs": [
    {
     "data": {
      "text/plain": [
       "tensor([[-0.2907],\n",
       "        [-0.4820],\n",
       "        [-0.3252],\n",
       "        [-0.2800],\n",
       "        [-0.2584],\n",
       "        [ 0.0684],\n",
       "        [-0.4656],\n",
       "        [-0.1906],\n",
       "        [-0.2500],\n",
       "        [-0.1288],\n",
       "        [-0.2551],\n",
       "        [-0.1237],\n",
       "        [-0.5341],\n",
       "        [-0.3932],\n",
       "        [-0.2758],\n",
       "        [-0.3471],\n",
       "        [-0.1721],\n",
       "        [-0.5357],\n",
       "        [-0.6416],\n",
       "        [-0.1785],\n",
       "        [-0.1923],\n",
       "        [-0.1468],\n",
       "        [-0.1921],\n",
       "        [-0.2264],\n",
       "        [-0.5574],\n",
       "        [-0.2977],\n",
       "        [-0.4666],\n",
       "        [-0.1192],\n",
       "        [-0.0720],\n",
       "        [-0.3443]], device='mps:0', grad_fn=<LinearBackward0>)"
      ]
     },
     "execution_count": 40,
     "metadata": {},
     "output_type": "execute_result"
    }
   ],
   "source": [
    "linear(inp)"
   ]
  },
  {
   "cell_type": "code",
   "execution_count": 41,
   "id": "c915b367",
   "metadata": {},
   "outputs": [
    {
     "data": {
      "text/plain": [
       "tensor([[65, 66, 34, 41, 12, 18, 46, 95, 82, 63, 11, 27, 25, 94, 22, 53, 71, 81,\n",
       "         47, 26]])"
      ]
     },
     "execution_count": 41,
     "metadata": {},
     "output_type": "execute_result"
    }
   ],
   "source": [
    "x = torch.randint(low=10, high=100, size=(1, 20))\n",
    "x"
   ]
  },
  {
   "cell_type": "code",
   "execution_count": 47,
   "id": "8385c398",
   "metadata": {},
   "outputs": [
    {
     "data": {
      "text/plain": [
       "(tensor(11), tensor(95))"
      ]
     },
     "execution_count": 47,
     "metadata": {},
     "output_type": "execute_result"
    }
   ],
   "source": [
    "x.min(), x.max()"
   ]
  },
  {
   "cell_type": "code",
   "execution_count": 51,
   "id": "386ac01d",
   "metadata": {},
   "outputs": [],
   "source": [
    "# x.mean() This won't work as mean requires float datatype"
   ]
  },
  {
   "cell_type": "code",
   "execution_count": 52,
   "id": "c3096545",
   "metadata": {},
   "outputs": [
    {
     "data": {
      "text/plain": [
       "tensor(48.9375, dtype=torch.float16)"
      ]
     },
     "execution_count": 52,
     "metadata": {},
     "output_type": "execute_result"
    }
   ],
   "source": [
    "x.to(dtype=torch.float16).mean()"
   ]
  },
  {
   "cell_type": "code",
   "execution_count": 56,
   "id": "524fd3e9",
   "metadata": {},
   "outputs": [
    {
     "data": {
      "text/plain": [
       "(tensor(46., dtype=torch.float16),\n",
       " torch.return_types.mode(\n",
       " values=tensor([11]),\n",
       " indices=tensor([10])))"
      ]
     },
     "execution_count": 56,
     "metadata": {},
     "output_type": "execute_result"
    }
   ],
   "source": [
    "x.median().type(torch.float16), x.mode()"
   ]
  },
  {
   "cell_type": "code",
   "execution_count": 55,
   "id": "c8550aa9",
   "metadata": {},
   "outputs": [
    {
     "data": {
      "text/plain": [
       "torch.return_types.sort(\n",
       "values=tensor([[11, 12, 18, 22, 25, 26, 27, 34, 41, 46, 47, 53, 63, 65, 66, 71, 81, 82,\n",
       "         94, 95]]),\n",
       "indices=tensor([[10,  4,  5, 14, 12, 19, 11,  2,  3,  6, 18, 15,  9,  0,  1, 16, 17,  8,\n",
       "         13,  7]]))"
      ]
     },
     "execution_count": 55,
     "metadata": {},
     "output_type": "execute_result"
    }
   ],
   "source": [
    "x.sort()"
   ]
  },
  {
   "cell_type": "code",
   "execution_count": 58,
   "id": "e120d599",
   "metadata": {},
   "outputs": [
    {
     "data": {
      "text/plain": [
       "Counter({tensor(65): 1,\n",
       "         tensor(66): 1,\n",
       "         tensor(34): 1,\n",
       "         tensor(41): 1,\n",
       "         tensor(12): 1,\n",
       "         tensor(18): 1,\n",
       "         tensor(46): 1,\n",
       "         tensor(95): 1,\n",
       "         tensor(82): 1,\n",
       "         tensor(63): 1,\n",
       "         tensor(11): 1,\n",
       "         tensor(27): 1,\n",
       "         tensor(25): 1,\n",
       "         tensor(94): 1,\n",
       "         tensor(22): 1,\n",
       "         tensor(53): 1,\n",
       "         tensor(71): 1,\n",
       "         tensor(81): 1,\n",
       "         tensor(47): 1,\n",
       "         tensor(26): 1})"
      ]
     },
     "execution_count": 58,
     "metadata": {},
     "output_type": "execute_result"
    }
   ],
   "source": [
    "from collections import Counter\n",
    "\n",
    "Counter(x[0])"
   ]
  },
  {
   "cell_type": "code",
   "execution_count": 60,
   "id": "63a4c3db",
   "metadata": {},
   "outputs": [
    {
     "data": {
      "text/plain": [
       "(tensor([[65, 66, 34, 41, 12, 18, 46, 95, 82, 63, 11, 27, 25, 94, 22, 53, 71, 81,\n",
       "          47, 26]]),\n",
       " tensor(7),\n",
       " tensor(10))"
      ]
     },
     "execution_count": 60,
     "metadata": {},
     "output_type": "execute_result"
    }
   ],
   "source": [
    "# Finding index of min and max\n",
    "\n",
    "x, x.argmax(), x.argmin()"
   ]
  },
  {
   "cell_type": "markdown",
   "id": "5ff7759b",
   "metadata": {},
   "source": [
    "## Calculating grads"
   ]
  },
  {
   "cell_type": "code",
   "execution_count": 65,
   "id": "376e516a",
   "metadata": {},
   "outputs": [
    {
     "data": {
      "text/plain": [
       "(tensor([[2.0000, 6.3000, 9.9000],\n",
       "         [3.1000, 6.0000, 0.2000]], device='mps:0', requires_grad=True),\n",
       " 2,\n",
       " torch.Size([2, 3]))"
      ]
     },
     "execution_count": 65,
     "metadata": {},
     "output_type": "execute_result"
    }
   ],
   "source": [
    "x = torch.tensor([[2, 6.3, 9.9], [3.1, 6, 0.2]], device=device, requires_grad=True)\n",
    "x, x.ndim, x.shape"
   ]
  },
  {
   "cell_type": "code",
   "execution_count": null,
   "id": "e0dc892a",
   "metadata": {},
   "outputs": [
    {
     "data": {
      "text/plain": [
       "tensor(187.3500, device='mps:0', grad_fn=<SumBackward0>)"
      ]
     },
     "execution_count": 67,
     "metadata": {},
     "output_type": "execute_result"
    }
   ],
   "source": [
    "out = x.pow(2).sum() # x^2\n",
    "out"
   ]
  },
  {
   "cell_type": "code",
   "execution_count": 68,
   "id": "6c4308de",
   "metadata": {},
   "outputs": [],
   "source": [
    "out.backward()"
   ]
  },
  {
   "cell_type": "code",
   "execution_count": 71,
   "id": "d8c3346f",
   "metadata": {},
   "outputs": [
    {
     "data": {
      "text/plain": [
       "tensor([[ 4.0000, 12.6000, 19.8000],\n",
       "        [ 6.2000, 12.0000,  0.4000]], device='mps:0')"
      ]
     },
     "execution_count": 71,
     "metadata": {},
     "output_type": "execute_result"
    }
   ],
   "source": [
    "x.grad # returns 2x (d/dx of x^2)"
   ]
  },
  {
   "cell_type": "markdown",
   "id": "159b7ac4",
   "metadata": {},
   "source": [
    "## Reshaping, Stacking, Squeezing and Unsqueezing"
   ]
  },
  {
   "cell_type": "code",
   "execution_count": 76,
   "id": "dab108d2",
   "metadata": {},
   "outputs": [
    {
     "data": {
      "text/plain": [
       "(tensor([[1., 2.],\n",
       "         [3., 4.],\n",
       "         [5., 6.]], device='mps:0'),\n",
       " tensor([[1., 2., 3.],\n",
       "         [4., 5., 6.]], device='mps:0'))"
      ]
     },
     "execution_count": 76,
     "metadata": {},
     "output_type": "execute_result"
    }
   ],
   "source": [
    "tensor_A, tensor_A.reshape(shape=(2, 3))"
   ]
  },
  {
   "cell_type": "code",
   "execution_count": 78,
   "id": "b1375263",
   "metadata": {},
   "outputs": [
    {
     "data": {
      "text/plain": [
       "tensor([[1065353216, 1073741824],\n",
       "        [1077936128, 1082130432],\n",
       "        [1084227584, 1086324736]], device='mps:0', dtype=torch.int32)"
      ]
     },
     "execution_count": 78,
     "metadata": {},
     "output_type": "execute_result"
    }
   ],
   "source": [
    "tensor_A.view(torch.int32)"
   ]
  },
  {
   "cell_type": "code",
   "execution_count": 81,
   "id": "419a53b2",
   "metadata": {},
   "outputs": [
    {
     "data": {
      "text/plain": [
       "tensor([[[ 1.,  2.],\n",
       "         [ 3.,  4.],\n",
       "         [ 5.,  6.]],\n",
       "\n",
       "        [[ 7., 10.],\n",
       "         [ 8., 11.],\n",
       "         [ 9., 12.]]], device='mps:0')"
      ]
     },
     "execution_count": 81,
     "metadata": {},
     "output_type": "execute_result"
    }
   ],
   "source": [
    "torch.stack([tensor_A, tensor_B.to(device=device)])"
   ]
  },
  {
   "cell_type": "code",
   "execution_count": 85,
   "id": "95666e41",
   "metadata": {},
   "outputs": [
    {
     "data": {
      "text/plain": [
       "(tensor([[[ 1.,  7.],\n",
       "          [ 2., 10.]],\n",
       " \n",
       "         [[ 3.,  8.],\n",
       "          [ 4., 11.]],\n",
       " \n",
       "         [[ 5.,  9.],\n",
       "          [ 6., 12.]]], device='mps:0'),\n",
       " tensor([[[ 1.,  2.],\n",
       "          [ 7., 10.]],\n",
       " \n",
       "         [[ 3.,  4.],\n",
       "          [ 8., 11.]],\n",
       " \n",
       "         [[ 5.,  6.],\n",
       "          [ 9., 12.]]], device='mps:0'))"
      ]
     },
     "execution_count": 85,
     "metadata": {},
     "output_type": "execute_result"
    }
   ],
   "source": [
    "torch.stack([tensor_A, tensor_B.to(device=device)], dim=2), torch.stack([tensor_A, tensor_B.to(device=device)], dim=1)"
   ]
  },
  {
   "cell_type": "code",
   "execution_count": 97,
   "id": "ab95b631",
   "metadata": {},
   "outputs": [
    {
     "data": {
      "text/plain": [
       "(tensor([[ 7., 10.],\n",
       "         [ 8., 11.],\n",
       "         [ 9., 12.]]),\n",
       " tensor([[ 7., 10.],\n",
       "         [ 8., 11.],\n",
       "         [ 9., 12.]]),\n",
       " tensor([[[ 7., 10.],\n",
       "          [ 8., 11.],\n",
       "          [ 9., 12.]]]),\n",
       " tensor([[[ 7., 10.]],\n",
       " \n",
       "         [[ 8., 11.]],\n",
       " \n",
       "         [[ 9., 12.]]]),\n",
       " torch.Size([3, 1, 2]))"
      ]
     },
     "execution_count": 97,
     "metadata": {},
     "output_type": "execute_result"
    }
   ],
   "source": [
    "# unsqueeze: add a dimension to the specified dimension\n",
    "\n",
    "tensor_B, tensor_B.squeeze(), tensor_B.unsqueeze(dim=0), tensor_B.unsqueeze(dim=1), tensor_B.unsqueeze(dim=1).shape"
   ]
  },
  {
   "cell_type": "code",
   "execution_count": 102,
   "id": "c39bad5f",
   "metadata": {},
   "outputs": [
    {
     "name": "stdout",
     "output_type": "stream",
     "text": [
      "tensor([[2.0000, 6.3000, 9.9000],\n",
      "        [3.1000, 6.0000, 0.2000]], device='mps:0', requires_grad=True) torch.Size([2, 3])\n"
     ]
    },
    {
     "data": {
      "text/plain": [
       "tensor([[2.0000, 3.1000],\n",
       "        [6.3000, 6.0000],\n",
       "        [9.9000, 0.2000]], device='mps:0', grad_fn=<PermuteBackward0>)"
      ]
     },
     "execution_count": 102,
     "metadata": {},
     "output_type": "execute_result"
    }
   ],
   "source": [
    "# Permute: view as different shape\n",
    "\n",
    "print(x, x.shape)\n",
    "x.permute(dims=(1, 0))"
   ]
  },
  {
   "cell_type": "code",
   "execution_count": 104,
   "id": "bc56fa91",
   "metadata": {},
   "outputs": [
    {
     "name": "stdout",
     "output_type": "stream",
     "text": [
      "torch.Size([225, 220, 3])\n"
     ]
    },
    {
     "data": {
      "text/plain": [
       "torch.Size([3, 220, 225])"
      ]
     },
     "execution_count": 104,
     "metadata": {},
     "output_type": "execute_result"
    }
   ],
   "source": [
    "y = torch.rand(size=(225, 220, 3))\n",
    "print(y.shape)\n",
    "\n",
    "perm = y.permute(2, 1, 0)\n",
    "perm.shape"
   ]
  },
  {
   "cell_type": "markdown",
   "id": "60aab9c1",
   "metadata": {},
   "source": [
    "## Indexing"
   ]
  },
  {
   "cell_type": "code",
   "execution_count": 105,
   "id": "046698e3",
   "metadata": {},
   "outputs": [
    {
     "data": {
      "text/plain": [
       "tensor([[[1, 2, 3],\n",
       "         [4, 5, 6],\n",
       "         [7, 8, 9]]])"
      ]
     },
     "execution_count": 105,
     "metadata": {},
     "output_type": "execute_result"
    }
   ],
   "source": [
    "x = torch.arange(1, 10).reshape(1, 3, 3)\n",
    "x"
   ]
  },
  {
   "cell_type": "code",
   "execution_count": 111,
   "id": "fa9ebdb4",
   "metadata": {},
   "outputs": [
    {
     "data": {
      "text/plain": [
       "(tensor([1, 2, 3]), tensor([1, 2, 3]))"
      ]
     },
     "execution_count": 111,
     "metadata": {},
     "output_type": "execute_result"
    }
   ],
   "source": [
    "x[0][0], x[0, 0]"
   ]
  },
  {
   "cell_type": "code",
   "execution_count": 110,
   "id": "743301b5",
   "metadata": {},
   "outputs": [
    {
     "data": {
      "text/plain": [
       "(tensor([1, 4, 7]), tensor([1, 4, 7]))"
      ]
     },
     "execution_count": 110,
     "metadata": {},
     "output_type": "execute_result"
    }
   ],
   "source": [
    "x[0][:, 0], x[0, :, 0]"
   ]
  },
  {
   "cell_type": "markdown",
   "id": "f26704d5",
   "metadata": {},
   "source": [
    "## Pytorch and numpy"
   ]
  },
  {
   "cell_type": "code",
   "execution_count": 112,
   "id": "07ca0d3d",
   "metadata": {},
   "outputs": [],
   "source": [
    "import numpy as np"
   ]
  },
  {
   "cell_type": "code",
   "execution_count": 118,
   "id": "3c9f750b",
   "metadata": {},
   "outputs": [
    {
     "data": {
      "text/plain": [
       "array([[2, 6, 7],\n",
       "       [1, 8, 3]])"
      ]
     },
     "execution_count": 118,
     "metadata": {},
     "output_type": "execute_result"
    }
   ],
   "source": [
    "np1 = np.array([[2, 6, 7], [1, 8, 3]])\n",
    "np1"
   ]
  },
  {
   "cell_type": "code",
   "execution_count": 123,
   "id": "7a7bb991",
   "metadata": {},
   "outputs": [
    {
     "data": {
      "text/plain": [
       "(tensor([[2, 6, 7],\n",
       "         [1, 8, 3]]),\n",
       " 2,\n",
       " torch.Size([2, 3]),\n",
       " device(type='cpu'),\n",
       " torch.int64,\n",
       " False)"
      ]
     },
     "execution_count": 123,
     "metadata": {},
     "output_type": "execute_result"
    }
   ],
   "source": [
    "t1 = torch.from_numpy(np1)\n",
    "t1, t1.ndim, t1.shape, t1.device, t1.dtype, t1.requires_grad"
   ]
  },
  {
   "cell_type": "code",
   "execution_count": 128,
   "id": "4fb61ef7",
   "metadata": {},
   "outputs": [
    {
     "data": {
      "text/plain": [
       "(tensor([[2., 6., 7.],\n",
       "         [1., 8., 3.]], device='mps:0', requires_grad=True),\n",
       " 2,\n",
       " torch.Size([2, 3]),\n",
       " device(type='mps', index=0),\n",
       " torch.float32,\n",
       " True)"
      ]
     },
     "execution_count": 128,
     "metadata": {},
     "output_type": "execute_result"
    }
   ],
   "source": [
    "t1 = t1.to(device=device, dtype=torch.float32)\n",
    "t1.requires_grad_() # Only for float types\n",
    "t1, t1.ndim, t1.shape, t1.device, t1.dtype, t1.requires_grad"
   ]
  },
  {
   "cell_type": "code",
   "execution_count": 131,
   "id": "2c851096",
   "metadata": {},
   "outputs": [
    {
     "data": {
      "text/plain": [
       "tensor(1270., device='mps:0', grad_fn=<AddBackward0>)"
      ]
     },
     "execution_count": 131,
     "metadata": {},
     "output_type": "execute_result"
    }
   ],
   "source": [
    "obj = t1.square().sum() + t1.pow(3).sum()\n",
    "obj"
   ]
  },
  {
   "cell_type": "code",
   "execution_count": 132,
   "id": "90b82a2b",
   "metadata": {},
   "outputs": [],
   "source": [
    "obj.backward()"
   ]
  },
  {
   "cell_type": "code",
   "execution_count": 135,
   "id": "cedb6d7c",
   "metadata": {},
   "outputs": [
    {
     "data": {
      "text/plain": [
       "tensor([[ 16., 120., 161.],\n",
       "        [  5., 208.,  33.]], device='mps:0')"
      ]
     },
     "execution_count": 135,
     "metadata": {},
     "output_type": "execute_result"
    }
   ],
   "source": [
    "t1.grad # would return 2t + 3t^2"
   ]
  },
  {
   "cell_type": "code",
   "execution_count": 137,
   "id": "7e6d8207",
   "metadata": {},
   "outputs": [],
   "source": [
    "# tensor_A, tensor_A.numpy() This won't work as tensor_A is in mps. We need to convert it to cpu first"
   ]
  },
  {
   "cell_type": "code",
   "execution_count": 138,
   "id": "5891e0af",
   "metadata": {},
   "outputs": [
    {
     "data": {
      "text/plain": [
       "(tensor([[1., 2.],\n",
       "         [3., 4.],\n",
       "         [5., 6.]], device='mps:0'),\n",
       " array([[1., 2.],\n",
       "        [3., 4.],\n",
       "        [5., 6.]], dtype=float32))"
      ]
     },
     "execution_count": 138,
     "metadata": {},
     "output_type": "execute_result"
    }
   ],
   "source": [
    "tensor_A, tensor_A.to(device=\"cpu\").numpy()"
   ]
  },
  {
   "cell_type": "markdown",
   "id": "0013a568",
   "metadata": {},
   "source": [
    "# Reproducability\n",
    "\n",
    "Trying to make results less random: producing similar results on multiple iterations.\n",
    "\n",
    "As long as ***torch.manual_seed()*** is set to a constant at the beginning of an application and all other sources of nondeterminism have been eliminated, the same series of random numbers will be generated each time the application is run in the same environment."
   ]
  },
  {
   "cell_type": "code",
   "execution_count": 140,
   "id": "a20c4a21",
   "metadata": {},
   "outputs": [
    {
     "data": {
      "text/plain": [
       "False"
      ]
     },
     "execution_count": 140,
     "metadata": {},
     "output_type": "execute_result"
    }
   ],
   "source": [
    "tensor_A.to(device='cpu').equal(tensor_B)"
   ]
  },
  {
   "cell_type": "code",
   "execution_count": 142,
   "id": "156e2833",
   "metadata": {},
   "outputs": [
    {
     "data": {
      "text/plain": [
       "tensor([[False, False],\n",
       "        [False, False],\n",
       "        [False, False]])"
      ]
     },
     "execution_count": 142,
     "metadata": {},
     "output_type": "execute_result"
    }
   ],
   "source": [
    "tensor_A.to(device='cpu') == tensor_B"
   ]
  },
  {
   "cell_type": "code",
   "execution_count": 143,
   "id": "8c43eebb",
   "metadata": {},
   "outputs": [
    {
     "data": {
      "text/plain": [
       "(tensor([[0.7355, 0.2723, 0.0496],\n",
       "         [0.6839, 0.5021, 0.8806]]),\n",
       " tensor([[0.5721, 0.4580, 0.6320],\n",
       "         [0.0926, 0.1080, 0.6762]]),\n",
       " tensor([[False, False, False],\n",
       "         [False, False, False]]))"
      ]
     },
     "execution_count": 143,
     "metadata": {},
     "output_type": "execute_result"
    }
   ],
   "source": [
    "tensor_C = torch.rand(2, 3)\n",
    "tensor_D = torch.rand(2, 3)\n",
    "\n",
    "tensor_C, tensor_D, tensor_C == tensor_D"
   ]
  },
  {
   "cell_type": "code",
   "execution_count": 145,
   "id": "462062eb",
   "metadata": {},
   "outputs": [
    {
     "data": {
      "text/plain": [
       "(tensor([[0.7456, 0.7613, 0.6584],\n",
       "         [0.6439, 0.4481, 0.7004]]),\n",
       " tensor([[0.1568, 0.2288, 0.9780],\n",
       "         [0.4037, 0.1519, 0.9458]]),\n",
       " tensor([[False, False, False],\n",
       "         [False, False, False]]))"
      ]
     },
     "execution_count": 145,
     "metadata": {},
     "output_type": "execute_result"
    }
   ],
   "source": [
    "torch.manual_seed(53)\n",
    "tensor_C = torch.rand(2, 3)\n",
    "tensor_D = torch.rand(2, 3)\n",
    "\n",
    "tensor_C, tensor_D, tensor_C == tensor_D"
   ]
  },
  {
   "cell_type": "code",
   "execution_count": 147,
   "id": "85658968",
   "metadata": {},
   "outputs": [
    {
     "data": {
      "text/plain": [
       "(tensor([[0.7456, 0.7613, 0.6584],\n",
       "         [0.6439, 0.4481, 0.7004]]),\n",
       " tensor([[0.7456, 0.7613, 0.6584],\n",
       "         [0.6439, 0.4481, 0.7004]]),\n",
       " tensor([[True, True, True],\n",
       "         [True, True, True]]))"
      ]
     },
     "execution_count": 147,
     "metadata": {},
     "output_type": "execute_result"
    }
   ],
   "source": [
    "torch.manual_seed(53)\n",
    "tensor_C = torch.rand(2, 3)\n",
    "\n",
    "torch.manual_seed(53)\n",
    "tensor_D = torch.rand(2, 3)\n",
    "\n",
    "tensor_C, tensor_D, tensor_C == tensor_D"
   ]
  },
  {
   "cell_type": "markdown",
   "id": "1decb9ab",
   "metadata": {},
   "source": [
    "So, we have initialized same random values using similar random_seed value"
   ]
  },
  {
   "cell_type": "code",
   "execution_count": 148,
   "id": "79a17b02",
   "metadata": {},
   "outputs": [
    {
     "data": {
      "text/plain": [
       "(tensor([[0.7456, 0.7613, 0.6584],\n",
       "         [0.6439, 0.4481, 0.7004]]),\n",
       " tensor([[0.8303, 0.1261, 0.9075],\n",
       "         [0.8199, 0.9201, 0.1166]]),\n",
       " tensor([[False, False, False],\n",
       "         [False, False, False]]))"
      ]
     },
     "execution_count": 148,
     "metadata": {},
     "output_type": "execute_result"
    }
   ],
   "source": [
    "torch.manual_seed(53)\n",
    "tensor_C = torch.rand(2, 3)\n",
    "\n",
    "torch.manual_seed(5)\n",
    "tensor_D = torch.rand(2, 3)\n",
    "\n",
    "tensor_C, tensor_D, tensor_C == tensor_D"
   ]
  },
  {
   "cell_type": "markdown",
   "id": "f2a36d16",
   "metadata": {},
   "source": [
    "## CPU <> GPU <> Apple Silicon"
   ]
  },
  {
   "cell_type": "code",
   "execution_count": 149,
   "id": "1dfbb3d1",
   "metadata": {},
   "outputs": [
    {
     "data": {
      "text/plain": [
       "tensor([[1., 2.],\n",
       "        [3., 4.],\n",
       "        [5., 6.]], device='mps:0')"
      ]
     },
     "execution_count": 149,
     "metadata": {},
     "output_type": "execute_result"
    }
   ],
   "source": [
    "tensor_A"
   ]
  },
  {
   "cell_type": "code",
   "execution_count": 151,
   "id": "2b201b13",
   "metadata": {},
   "outputs": [
    {
     "data": {
      "text/plain": [
       "(tensor([[1., 2.],\n",
       "         [3., 4.],\n",
       "         [5., 6.]]),\n",
       " tensor([[1., 2.],\n",
       "         [3., 4.],\n",
       "         [5., 6.]]))"
      ]
     },
     "execution_count": 151,
     "metadata": {},
     "output_type": "execute_result"
    }
   ],
   "source": [
    "tensor_A.cpu(), tensor_A.to(device=\"cpu\")"
   ]
  },
  {
   "cell_type": "code",
   "execution_count": null,
   "id": "76515609",
   "metadata": {},
   "outputs": [],
   "source": []
  }
 ],
 "metadata": {
  "kernelspec": {
   "display_name": "silvercule",
   "language": "python",
   "name": "python3"
  },
  "language_info": {
   "codemirror_mode": {
    "name": "ipython",
    "version": 3
   },
   "file_extension": ".py",
   "mimetype": "text/x-python",
   "name": "python",
   "nbconvert_exporter": "python",
   "pygments_lexer": "ipython3",
   "version": "3.13.2"
  }
 },
 "nbformat": 4,
 "nbformat_minor": 5
}
