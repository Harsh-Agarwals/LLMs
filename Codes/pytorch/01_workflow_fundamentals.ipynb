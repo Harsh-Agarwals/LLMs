{
 "cells": [
  {
   "cell_type": "code",
   "execution_count": 48,
   "id": "f312f7fb",
   "metadata": {},
   "outputs": [],
   "source": [
    "what_were_covering = {1: \"data (prepare and load)\",\n",
    "    2: \"build model\",\n",
    "    3: \"fitting the model to data (training)\",\n",
    "    4: \"making predictions and evaluating a model (inference)\",\n",
    "    5: \"saving and loading a model\",\n",
    "    6: \"putting it all together\"\n",
    "}"
   ]
  },
  {
   "cell_type": "code",
   "execution_count": 49,
   "id": "ef450e0b",
   "metadata": {},
   "outputs": [
    {
     "data": {
      "text/plain": [
       "'2.6.0'"
      ]
     },
     "execution_count": 49,
     "metadata": {},
     "output_type": "execute_result"
    }
   ],
   "source": [
    "import torch\n",
    "from torch import nn\n",
    "import matplotlib.pyplot as plt\n",
    "\n",
    "import warnings\n",
    "warnings.filterwarnings('ignore')\n",
    "\n",
    "torch.__version__"
   ]
  },
  {
   "cell_type": "markdown",
   "id": "726c1486",
   "metadata": {},
   "source": [
    "## Data Preparation"
   ]
  },
  {
   "cell_type": "code",
   "execution_count": 50,
   "id": "ff4f0c89",
   "metadata": {},
   "outputs": [
    {
     "data": {
      "text/plain": [
       "torch.Size([50])"
      ]
     },
     "execution_count": 50,
     "metadata": {},
     "output_type": "execute_result"
    }
   ],
   "source": [
    "weight = 0.7\n",
    "bias = 0.3\n",
    "\n",
    "X = torch.arange(0, 1, 0.02)\n",
    "y = X * weight + bias\n",
    "\n",
    "X.shape"
   ]
  },
  {
   "cell_type": "code",
   "execution_count": 51,
   "id": "3f96b42d",
   "metadata": {},
   "outputs": [
    {
     "data": {
      "text/plain": [
       "(tensor([0.0000, 0.0200, 0.0400, 0.0600, 0.0800, 0.1000, 0.1200, 0.1400, 0.1600,\n",
       "         0.1800, 0.2000, 0.2200, 0.2400, 0.2600, 0.2800, 0.3000, 0.3200, 0.3400,\n",
       "         0.3600, 0.3800, 0.4000, 0.4200, 0.4400, 0.4600, 0.4800, 0.5000, 0.5200,\n",
       "         0.5400, 0.5600, 0.5800, 0.6000, 0.6200, 0.6400, 0.6600, 0.6800, 0.7000,\n",
       "         0.7200, 0.7400, 0.7600, 0.7800, 0.8000, 0.8200, 0.8400, 0.8600, 0.8800,\n",
       "         0.9000, 0.9200, 0.9400, 0.9600, 0.9800]),\n",
       " tensor([0.3000, 0.3140, 0.3280, 0.3420, 0.3560, 0.3700, 0.3840, 0.3980, 0.4120,\n",
       "         0.4260, 0.4400, 0.4540, 0.4680, 0.4820, 0.4960, 0.5100, 0.5240, 0.5380,\n",
       "         0.5520, 0.5660, 0.5800, 0.5940, 0.6080, 0.6220, 0.6360, 0.6500, 0.6640,\n",
       "         0.6780, 0.6920, 0.7060, 0.7200, 0.7340, 0.7480, 0.7620, 0.7760, 0.7900,\n",
       "         0.8040, 0.8180, 0.8320, 0.8460, 0.8600, 0.8740, 0.8880, 0.9020, 0.9160,\n",
       "         0.9300, 0.9440, 0.9580, 0.9720, 0.9860]))"
      ]
     },
     "execution_count": 51,
     "metadata": {},
     "output_type": "execute_result"
    }
   ],
   "source": [
    "X, y"
   ]
  },
  {
   "cell_type": "code",
   "execution_count": 52,
   "id": "03dd3ce5",
   "metadata": {},
   "outputs": [
    {
     "data": {
      "text/plain": [
       "((torch.Size([40]), torch.Size([40])), (torch.Size([10]), torch.Size([10])))"
      ]
     },
     "execution_count": 52,
     "metadata": {},
     "output_type": "execute_result"
    }
   ],
   "source": [
    "X_train, y_train = X[:40], y[:40]\n",
    "X_test, y_test = X[40:], y[40:]\n",
    "\n",
    "(X_train.shape, y_train.shape), (X_test.shape, y_test.shape)"
   ]
  },
  {
   "cell_type": "code",
   "execution_count": 53,
   "id": "8bee0967",
   "metadata": {},
   "outputs": [
    {
     "data": {
      "image/png": "[encoded data removed]",
      "text/plain": [
       "<Figure size 800x400 with 1 Axes>"
      ]
     },
     "metadata": {},
     "output_type": "display_data"
    }
   ],
   "source": [
    "plt.figure(figsize=(8, 4))\n",
    "plt.scatter(x=X_train, y=y_train, label=\"Train\")\n",
    "plt.scatter(x=X_test, y=y_test, label=\"Test\")\n",
    "plt.legend()\n",
    "\n",
    "plt.show()"
   ]
  },
  {
   "cell_type": "markdown",
   "id": "12499e98",
   "metadata": {},
   "source": [
    "## Model building (Linear Regression)\n",
    "\n",
    "### PyTorch model building essentials\n",
    "PyTorch has four (give or take) essential modules you can use to create almost any kind of neural network you can imagine.\n",
    "\n",
    "They are torch.nn, torch.optim, torch.utils.data.Dataset and torch.utils.data.DataLoader. "
   ]
  },
  {
   "cell_type": "code",
   "execution_count": 54,
   "id": "0489f9a8",
   "metadata": {},
   "outputs": [
    {
     "data": {
      "text/plain": [
       "[Parameter containing:\n",
       " tensor([0.4963], requires_grad=True),\n",
       " Parameter containing:\n",
       " tensor([0.7682], requires_grad=True)]"
      ]
     },
     "execution_count": 54,
     "metadata": {},
     "output_type": "execute_result"
    }
   ],
   "source": [
    "class LinearRegression(nn.Module):\n",
    "    def __init__(self):\n",
    "        super().__init__()\n",
    "        self.weights = nn.Parameter(torch.rand(1, dtype=torch.float32, requires_grad=True)) # nn.Parameter is useful as Module will consider these as trainable parameters\n",
    "        self.bias = nn.Parameter(torch.rand(1, dtype=torch.float32, requires_grad=True))\n",
    "\n",
    "    def forward(self, x: torch.Tensor) -> torch.Tensor:\n",
    "        return self.weights * x + self.bias\n",
    "    \n",
    "torch.manual_seed(0)\n",
    "model0 = LinearRegression()\n",
    "list(model0.parameters())"
   ]
  },
  {
   "cell_type": "code",
   "execution_count": 55,
   "id": "ff2b58b3",
   "metadata": {},
   "outputs": [
    {
     "data": {
      "text/plain": [
       "OrderedDict([('weights', tensor([0.4963])), ('bias', tensor([0.7682]))])"
      ]
     },
     "execution_count": 55,
     "metadata": {},
     "output_type": "execute_result"
    }
   ],
   "source": [
    "model0.state_dict()"
   ]
  },
  {
   "cell_type": "code",
   "execution_count": 56,
   "id": "4174f0c4",
   "metadata": {},
   "outputs": [
    {
     "data": {
      "text/plain": [
       "tensor([1.1652, 1.1752, 1.1851, 1.1950, 1.2049, 1.2149, 1.2248, 1.2347, 1.2446,\n",
       "        1.2546])"
      ]
     },
     "execution_count": 56,
     "metadata": {},
     "output_type": "execute_result"
    }
   ],
   "source": [
    "# model0.eval()\n",
    "\n",
    "# inference_mode acts like torch.no_grad() and doesn't output grads, basically turns off gradient tracking -> while inference_mode and no_grads works similar, inference_mode is newer and more preferred, and works faster.\n",
    "with torch.inference_mode():\n",
    "    y_preds = model0(X_test)\n",
    "y_preds"
   ]
  },
  {
   "cell_type": "code",
   "execution_count": 57,
   "id": "81adf309",
   "metadata": {},
   "outputs": [
    {
     "data": {
      "text/plain": [
       "tensor([0.8600, 0.8740, 0.8880, 0.9020, 0.9160, 0.9300, 0.9440, 0.9580, 0.9720,\n",
       "        0.9860])"
      ]
     },
     "execution_count": 57,
     "metadata": {},
     "output_type": "execute_result"
    }
   ],
   "source": [
    "y_test"
   ]
  },
  {
   "cell_type": "code",
   "execution_count": 58,
   "id": "3a2151d8",
   "metadata": {},
   "outputs": [
    {
     "data": {
      "image/png": "[encoded data removed]",
      "text/plain": [
       "<Figure size 800x400 with 1 Axes>"
      ]
     },
     "metadata": {},
     "output_type": "display_data"
    }
   ],
   "source": [
    "plt.figure(figsize=(8, 4))\n",
    "plt.scatter(x=X_train, y=y_train, label=\"Train\")\n",
    "plt.scatter(x=X_test, y=y_test, label=\"Test\")\n",
    "plt.scatter(x=X_test, y=y_preds, label=\"Preds\")\n",
    "\n",
    "plt.legend()\n",
    "\n",
    "plt.show()"
   ]
  },
  {
   "cell_type": "markdown",
   "id": "ff4443c8",
   "metadata": {},
   "source": [
    "## Model training"
   ]
  },
  {
   "cell_type": "code",
   "execution_count": 59,
   "id": "0431181d",
   "metadata": {},
   "outputs": [],
   "source": [
    "loss_fn = torch.nn.L1Loss()\n",
    "optim = torch.optim.SGD(params=model0.parameters(), lr=1e-3)"
   ]
  },
  {
   "cell_type": "code",
   "execution_count": 60,
   "id": "5f2cfca5",
   "metadata": {},
   "outputs": [
    {
     "name": "stdout",
     "output_type": "stream",
     "text": [
      "Epoch: 0, train loss: 0.38876184821128845, test loss: 0.2855430841445923\n",
      "Epoch: 10, train loss: 0.37724101543426514, test loss: 0.2720722556114197\n",
      "Epoch: 20, train loss: 0.3657201826572418, test loss: 0.25860151648521423\n",
      "Epoch: 30, train loss: 0.3541993498802185, test loss: 0.24513062834739685\n",
      "Epoch: 40, train loss: 0.3426784873008728, test loss: 0.23165981471538544\n",
      "Epoch: 50, train loss: 0.3311576545238495, test loss: 0.21818900108337402\n",
      "Epoch: 60, train loss: 0.3196367919445038, test loss: 0.2047182023525238\n",
      "Epoch: 70, train loss: 0.3081159293651581, test loss: 0.19124740362167358\n",
      "Epoch: 80, train loss: 0.29659512639045715, test loss: 0.17777658998966217\n",
      "Epoch: 90, train loss: 0.28507426381111145, test loss: 0.16430577635765076\n"
     ]
    }
   ],
   "source": [
    "epochs = 100\n",
    "train_losses = []\n",
    "test_losses = []\n",
    "\n",
    "for epoch in range(epochs):\n",
    "    model0.train()\n",
    "    preds = model0(X_train)\n",
    "    loss = loss_fn(y_train, preds)\n",
    "    loss.backward()\n",
    "    optim.step()\n",
    "    optim.zero_grad()\n",
    "\n",
    "    model0.eval()\n",
    "    with torch.no_grad():\n",
    "        test_preds = model0(X_test)\n",
    "        test_loss = loss_fn(y_test, test_preds)\n",
    "\n",
    "        if epoch%10==0:\n",
    "            train_losses.append(loss.detach())\n",
    "            test_losses.append(test_loss)\n",
    "            print(f\"Epoch: {epoch}, train loss: {loss}, test loss: {test_loss}\")"
   ]
  },
  {
   "cell_type": "code",
   "execution_count": 61,
   "id": "475c7cfe",
   "metadata": {},
   "outputs": [],
   "source": [
    "def training_loop(epochs, model, X_train, y_train):\n",
    "    losses = []\n",
    "    for epoch in range(epochs):\n",
    "        model.train()\n",
    "        preds = model(X_train)\n",
    "        loss = loss_fn(preds, y_train)\n",
    "        loss.backward()\n",
    "        optim.step()\n",
    "        optim.zero_grad()\n",
    "        if epoch%100==0:\n",
    "            losses.append(loss.detach())\n",
    "            print(f\"Epoch: {epoch}, loss: {loss}\")\n",
    "\n",
    "    return losses\n",
    "\n",
    "def testing_loop(epochs, model, X_test, y_test):\n",
    "    test_losses = []\n",
    "    for epoch in range(epochs):\n",
    "        model.eval()\n",
    "        with torch.inference_mode():\n",
    "            pred = model(X_test)\n",
    "            loss = loss_fn(y_test, pred)\n",
    "        if epoch%100==0:\n",
    "            test_losses.append(loss.detach())\n",
    "            print(f\"Epoch: {epoch}, test loss: {loss}\")\n",
    "    return test_losses\n",
    "\n",
    "# train_losses = training_loop(epochs=1000, model=model0, X_train=X_train, y_train=y_train)\n",
    "# test_losses = testing_loop(epochs=1000, model=model0, X_test=X_test, y_test=y_test)\n",
    "# plt.plot(train_losses)"
   ]
  },
  {
   "cell_type": "code",
   "execution_count": 62,
   "id": "9e14b734",
   "metadata": {},
   "outputs": [
    {
     "data": {
      "text/plain": [
       "[]"
      ]
     },
     "execution_count": 62,
     "metadata": {},
     "output_type": "execute_result"
    },
    {
     "data": {
      "image/png": "[encoded data removed]",
      "text/plain": [
       "<Figure size 640x480 with 1 Axes>"
      ]
     },
     "metadata": {},
     "output_type": "display_data"
    }
   ],
   "source": [
    "plt.plot(test_losses, label=\"Test loss\")\n",
    "plt.plot(train_losses, label=\"Train loss\")\n",
    "\n",
    "plt.legend()\n",
    "plt.plot()"
   ]
  },
  {
   "cell_type": "code",
   "execution_count": 63,
   "id": "4f2f08eb",
   "metadata": {},
   "outputs": [
    {
     "data": {
      "text/plain": [
       "OrderedDict([('weights', tensor([0.4573])), ('bias', tensor([0.6682]))])"
      ]
     },
     "execution_count": 63,
     "metadata": {},
     "output_type": "execute_result"
    }
   ],
   "source": [
    "model0.state_dict()"
   ]
  },
  {
   "cell_type": "markdown",
   "id": "aec48f8c",
   "metadata": {},
   "source": [
    "## Predictions"
   ]
  },
  {
   "cell_type": "code",
   "execution_count": 64,
   "id": "3481bd3d",
   "metadata": {},
   "outputs": [
    {
     "data": {
      "text/plain": [
       "tensor([1.0340, 1.0432, 1.0523, 1.0615, 1.0706, 1.0798, 1.0889, 1.0980, 1.1072,\n",
       "        1.1163])"
      ]
     },
     "execution_count": 64,
     "metadata": {},
     "output_type": "execute_result"
    }
   ],
   "source": [
    "model0.eval()\n",
    "\n",
    "with torch.inference_mode():\n",
    "    preds = model0(X_test)\n",
    "\n",
    "preds"
   ]
  },
  {
   "cell_type": "code",
   "execution_count": 65,
   "id": "608add97",
   "metadata": {},
   "outputs": [
    {
     "data": {
      "image/png": "[encoded data removed]",
      "text/plain": [
       "<Figure size 800x400 with 1 Axes>"
      ]
     },
     "metadata": {},
     "output_type": "display_data"
    }
   ],
   "source": [
    "plt.figure(figsize=(8, 4))\n",
    "plt.scatter(x=X_train, y=y_train, label=\"Train\")\n",
    "plt.scatter(x=X_test, y=y_test, label=\"Test\")\n",
    "plt.scatter(x=X_test, y=y_preds, label=\"Preds Untrained\")\n",
    "plt.scatter(x=X_test, y=preds, label=\"Preds Trained\")\n",
    "\n",
    "plt.legend()\n",
    "\n",
    "plt.show()"
   ]
  },
  {
   "cell_type": "markdown",
   "id": "40500275",
   "metadata": {},
   "source": [
    "## Saving and loading models\n",
    "\n",
    "The recommended way for saving and loading a model for inference (making predictions) is by saving and loading a model's state_dict(). As pickle is not secure."
   ]
  },
  {
   "cell_type": "code",
   "execution_count": 66,
   "id": "90274f85",
   "metadata": {},
   "outputs": [
    {
     "name": "stdout",
     "output_type": "stream",
     "text": [
      "Folder already exists\n"
     ]
    }
   ],
   "source": [
    "import os\n",
    "try:\n",
    "    os.mkdir(\"models\")\n",
    "except Exception as e:\n",
    "    print(\"Folder already exists\")\n",
    "\n",
    "torch.save(model0.state_dict(), \"models/model0.pth\")"
   ]
  },
  {
   "cell_type": "markdown",
   "id": "bbac7d02",
   "metadata": {},
   "source": [
    "We can now load it in using torch.nn.Module.load_state_dict(torch.load(f))\n",
    "\n",
    "Why call torch.load() inside torch.nn.Module.load_state_dict()?\n",
    "\n",
    "Because we only saved the model's state_dict() which is a dictionary of learned parameters and not the entire model, we first have to load the state_dict() with torch.load() and then pass that state_dict() to a new instance of our model (which is a subclass of nn.Module)."
   ]
  },
  {
   "cell_type": "code",
   "execution_count": 67,
   "id": "364300a5",
   "metadata": {},
   "outputs": [
    {
     "data": {
      "text/plain": [
       "(OrderedDict([('weights', tensor([0.4573])), ('bias', tensor([0.6682]))]),\n",
       " tensor([0.4573]))"
      ]
     },
     "execution_count": 67,
     "metadata": {},
     "output_type": "execute_result"
    }
   ],
   "source": [
    "model0.state_dict(), model0.state_dict()['weights']"
   ]
  },
  {
   "cell_type": "code",
   "execution_count": 68,
   "id": "fd836b6e",
   "metadata": {},
   "outputs": [
    {
     "data": {
      "text/plain": [
       "<All keys matched successfully>"
      ]
     },
     "execution_count": 68,
     "metadata": {},
     "output_type": "execute_result"
    }
   ],
   "source": [
    "loaded_model = LinearRegression()\n",
    "loaded_model.load_state_dict(torch.load(\"models/model0.pth\"))"
   ]
  },
  {
   "cell_type": "code",
   "execution_count": 69,
   "id": "8c447d3d",
   "metadata": {},
   "outputs": [
    {
     "data": {
      "text/plain": [
       "OrderedDict([('weights', tensor([0.4573])), ('bias', tensor([0.6682]))])"
      ]
     },
     "execution_count": 69,
     "metadata": {},
     "output_type": "execute_result"
    }
   ],
   "source": [
    "loaded_model.state_dict()"
   ]
  },
  {
   "cell_type": "markdown",
   "id": "54d02a33",
   "metadata": {},
   "source": [
    "So, now we can see that the new model has same weights as the saved models!"
   ]
  },
  {
   "cell_type": "code",
   "execution_count": 70,
   "id": "193c39be",
   "metadata": {},
   "outputs": [
    {
     "data": {
      "text/plain": [
       "tensor([True, True, True, True, True, True, True, True, True, True])"
      ]
     },
     "execution_count": 70,
     "metadata": {},
     "output_type": "execute_result"
    }
   ],
   "source": [
    "loaded_model.eval()\n",
    "\n",
    "with torch.no_grad():\n",
    "    preds_new = loaded_model(X_test)\n",
    "\n",
    "preds == preds_new"
   ]
  },
  {
   "cell_type": "markdown",
   "id": "a9a86b03",
   "metadata": {},
   "source": [
    "# Putting it together"
   ]
  },
  {
   "cell_type": "code",
   "execution_count": 71,
   "id": "79d8f950",
   "metadata": {},
   "outputs": [
    {
     "data": {
      "text/plain": [
       "'mps'"
      ]
     },
     "execution_count": 71,
     "metadata": {},
     "output_type": "execute_result"
    }
   ],
   "source": [
    "device = \"cuda\" if torch.cuda.is_available() else \"mps\" if torch.backends.mps.is_available() else \"cpu\"\n",
    "device"
   ]
  },
  {
   "cell_type": "code",
   "execution_count": 95,
   "id": "efc02665",
   "metadata": {},
   "outputs": [
    {
     "data": {
      "text/plain": [
       "(LinearRegressionModel(\n",
       "   (linear_layer): Linear(in_features=1, out_features=1, bias=True)\n",
       " ),\n",
       " OrderedDict([('linear_layer.weight', tensor([[-0.2672]], device='mps:0')),\n",
       "              ('linear_layer.bias', tensor([-0.7157], device='mps:0'))]),\n",
       " device(type='mps', index=0))"
      ]
     },
     "execution_count": 95,
     "metadata": {},
     "output_type": "execute_result"
    }
   ],
   "source": [
    "class LinearRegressionModel(nn.Module):\n",
    "    def __init__(self):\n",
    "        super().__init__()\n",
    "        self.linear_layer = nn.Linear(in_features=1, out_features=1, device=device)\n",
    "    \n",
    "    def forward(self, x: torch.Tensor) -> torch.Tensor:\n",
    "        return self.linear_layer(x)\n",
    "    \n",
    "torch.manual_seed(0)\n",
    "model1 = LinearRegressionModel()\n",
    "model1, model1.state_dict(), next(model1.parameters()).device"
   ]
  },
  {
   "cell_type": "code",
   "execution_count": 96,
   "id": "78c072da",
   "metadata": {},
   "outputs": [
    {
     "data": {
      "text/plain": [
       "LinearRegressionModel(\n",
       "  (linear_layer): Linear(in_features=1, out_features=1, bias=True)\n",
       ")"
      ]
     },
     "execution_count": 96,
     "metadata": {},
     "output_type": "execute_result"
    }
   ],
   "source": [
    "model1.to(device=device)\n",
    "model1"
   ]
  },
  {
   "cell_type": "code",
   "execution_count": 97,
   "id": "5c4ef2b0",
   "metadata": {},
   "outputs": [],
   "source": [
    "loss_fn = nn.L1Loss()\n",
    "optimizer = torch.optim.SGD(params=model1.parameters(), lr=1e-2)"
   ]
  },
  {
   "cell_type": "code",
   "execution_count": 98,
   "id": "b6f60efb",
   "metadata": {},
   "outputs": [
    {
     "name": "stdout",
     "output_type": "stream",
     "text": [
      "Epoch: 0, train loss: 1.3929226398468018, test loss: 1.863031029701233\n",
      "Epoch: 50, train loss: 0.8168728947639465, test loss: 1.189481258392334\n",
      "Epoch: 100, train loss: 0.2408229410648346, test loss: 0.5159313082695007\n",
      "Epoch: 150, train loss: 0.08571972697973251, test loss: 0.21390385925769806\n",
      "Epoch: 200, train loss: 0.0679749846458435, test loss: 0.15817883610725403\n",
      "Epoch: 250, train loss: 0.05080121383070946, test loss: 0.11818989366292953\n",
      "Epoch: 300, train loss: 0.03362578898668289, test loss: 0.07820098847150803\n",
      "Epoch: 350, train loss: 0.01645689271390438, test loss: 0.03752514347434044\n",
      "Epoch: 400, train loss: 0.007999846711754799, test loss: 0.0064598023891448975\n",
      "Epoch: 450, train loss: 0.007999846711754799, test loss: 0.0064598023891448975\n",
      "Epoch: 500, train loss: 0.007999846711754799, test loss: 0.0064598023891448975\n",
      "Epoch: 550, train loss: 0.007999846711754799, test loss: 0.0064598023891448975\n",
      "Epoch: 600, train loss: 0.007999846711754799, test loss: 0.0064598023891448975\n",
      "Epoch: 650, train loss: 0.007999846711754799, test loss: 0.0064598023891448975\n",
      "Epoch: 700, train loss: 0.007999846711754799, test loss: 0.0064598023891448975\n",
      "Epoch: 750, train loss: 0.007999846711754799, test loss: 0.0064598023891448975\n",
      "Epoch: 800, train loss: 0.007999846711754799, test loss: 0.0064598023891448975\n",
      "Epoch: 850, train loss: 0.007999846711754799, test loss: 0.0064598023891448975\n",
      "Epoch: 900, train loss: 0.007999846711754799, test loss: 0.0064598023891448975\n",
      "Epoch: 950, train loss: 0.007999846711754799, test loss: 0.0064598023891448975\n"
     ]
    }
   ],
   "source": [
    "epochs = 1000\n",
    "train_losses = []\n",
    "test_losses = []\n",
    "weight = 0.7\n",
    "bias = 0.3\n",
    "\n",
    "X = torch.arange(0, 1, 0.02).unsqueeze(dim=1)\n",
    "y = weight * X + bias \n",
    "\n",
    "X_train, y_train = X[:40], y[:40]\n",
    "X_test, y_test = X[40:], y[40:]\n",
    "\n",
    "X_train = X_train.to(device=device)\n",
    "X_test = X_test.to(device=device)\n",
    "\n",
    "y_train = y_train.to(device=device)\n",
    "y_test = y_test.to(device=device)\n",
    "\n",
    "for epoch in range(epochs):\n",
    "    # train\n",
    "    model1.train()\n",
    "    preds = model1(X_train)\n",
    "    train_loss = loss_fn(preds, y_train)\n",
    "    train_losses.append(train_loss.cpu().detach())\n",
    "    train_loss.backward()\n",
    "    optimizer.step()\n",
    "    optimizer.zero_grad()\n",
    "\n",
    "    # eval\n",
    "    model1.eval()\n",
    "    with torch.inference_mode():\n",
    "        preds = model1(X_test)\n",
    "        test_loss = loss_fn(preds, y_test)\n",
    "        test_losses.append(test_loss.cpu().detach())\n",
    "\n",
    "        if epoch%50==0:\n",
    "            print(f\"Epoch: {epoch}, train loss: {train_loss}, test loss: {test_loss}\")\n"
   ]
  },
  {
   "cell_type": "code",
   "execution_count": 99,
   "id": "145756b7",
   "metadata": {},
   "outputs": [
    {
     "data": {
      "text/plain": [
       "[]"
      ]
     },
     "execution_count": 99,
     "metadata": {},
     "output_type": "execute_result"
    },
    {
     "data": {
      "image/png": "[encoded data removed]",
      "text/plain": [
       "<Figure size 640x480 with 1 Axes>"
      ]
     },
     "metadata": {},
     "output_type": "display_data"
    }
   ],
   "source": [
    "plt.plot(test_losses, label=\"Test loss\")\n",
    "plt.plot(train_losses, label=\"Train loss\")\n",
    "\n",
    "plt.legend()\n",
    "plt.plot()"
   ]
  },
  {
   "cell_type": "code",
   "execution_count": 116,
   "id": "2200a610",
   "metadata": {},
   "outputs": [
    {
     "data": {
      "text/plain": [
       "tensor([[0.8672],\n",
       "        [0.8811],\n",
       "        [0.8951],\n",
       "        [0.9091],\n",
       "        [0.9230],\n",
       "        [0.9370],\n",
       "        [0.9510],\n",
       "        [0.9649],\n",
       "        [0.9789],\n",
       "        [0.9928]], device='mps:0')"
      ]
     },
     "execution_count": 116,
     "metadata": {},
     "output_type": "execute_result"
    }
   ],
   "source": [
    "# Prediction\n",
    "\n",
    "model1.eval()\n",
    "\n",
    "with torch.no_grad():\n",
    "    preds = model1(X_test)\n",
    "\n",
    "preds"
   ]
  },
  {
   "cell_type": "code",
   "execution_count": 103,
   "id": "2b6b329b",
   "metadata": {},
   "outputs": [
    {
     "data": {
      "image/png": "[encoded data removed]",
      "text/plain": [
       "<Figure size 800x400 with 1 Axes>"
      ]
     },
     "metadata": {},
     "output_type": "display_data"
    }
   ],
   "source": [
    "plt.figure(figsize=(8, 4))\n",
    "plt.scatter(x=X_train.cpu(), y=y_train.cpu(), label=\"Train\")\n",
    "plt.scatter(x=X_test.cpu(), y=y_test.cpu(), label=\"Test\")\n",
    "plt.scatter(x=X_test.cpu(), y=y_preds.cpu(), label=\"Preds Untrained\")\n",
    "plt.scatter(x=X_test.cpu(), y=preds.cpu(), label=\"Preds Trained\")\n",
    "\n",
    "plt.legend()\n",
    "\n",
    "plt.show()"
   ]
  },
  {
   "cell_type": "markdown",
   "id": "2d61661d",
   "metadata": {},
   "source": [
    "Now, results here are very close.\n",
    "\n",
    "**Saving and loading the model**"
   ]
  },
  {
   "cell_type": "code",
   "execution_count": 105,
   "id": "706c7429",
   "metadata": {},
   "outputs": [
    {
     "data": {
      "text/plain": [
       "(OrderedDict([('linear_layer.weight', tensor([[0.6980]], device='mps:0')),\n",
       "              ('linear_layer.bias', tensor([0.3088], device='mps:0'))]),\n",
       " OrderedDict([('weights', tensor([0.4573])), ('bias', tensor([0.6682]))]))"
      ]
     },
     "execution_count": 105,
     "metadata": {},
     "output_type": "execute_result"
    }
   ],
   "source": [
    "model1.state_dict(), model0.state_dict()"
   ]
  },
  {
   "cell_type": "code",
   "execution_count": 106,
   "id": "adb68126",
   "metadata": {},
   "outputs": [],
   "source": [
    "torch.save(model1.state_dict(), \"models/model1.pth\")"
   ]
  },
  {
   "cell_type": "code",
   "execution_count": 110,
   "id": "9d9d1483",
   "metadata": {},
   "outputs": [
    {
     "name": "stdout",
     "output_type": "stream",
     "text": [
      "mps:0\n"
     ]
    },
    {
     "data": {
      "text/plain": [
       "(device(type='mps', index=0),\n",
       " LinearRegressionModel(\n",
       "   (linear_layer): Linear(in_features=1, out_features=1, bias=True)\n",
       " ))"
      ]
     },
     "execution_count": 110,
     "metadata": {},
     "output_type": "execute_result"
    }
   ],
   "source": [
    "# Loading model and predictions\n",
    "\n",
    "model = LinearRegressionModel()\n",
    "model.load_state_dict(torch.load(\"models/model1.pth\"))\n",
    "print(next(model.parameters()).device)\n",
    "model.to(device=device)\n",
    "next(model.parameters()).device, model, "
   ]
  },
  {
   "cell_type": "code",
   "execution_count": 112,
   "id": "d8f752d1",
   "metadata": {},
   "outputs": [
    {
     "data": {
      "text/plain": [
       "(<generator object Module.parameters at 0x1320b1a80>,\n",
       " OrderedDict([('linear_layer.weight', tensor([[0.6980]], device='mps:0')),\n",
       "              ('linear_layer.bias', tensor([0.3088], device='mps:0'))]))"
      ]
     },
     "execution_count": 112,
     "metadata": {},
     "output_type": "execute_result"
    }
   ],
   "source": [
    "model.parameters(), model.state_dict()"
   ]
  },
  {
   "cell_type": "code",
   "execution_count": 118,
   "id": "96ca2c2a",
   "metadata": {},
   "outputs": [
    {
     "data": {
      "text/plain": [
       "tensor([[True],\n",
       "        [True],\n",
       "        [True],\n",
       "        [True],\n",
       "        [True],\n",
       "        [True],\n",
       "        [True],\n",
       "        [True],\n",
       "        [True],\n",
       "        [True]], device='mps:0')"
      ]
     },
     "execution_count": 118,
     "metadata": {},
     "output_type": "execute_result"
    }
   ],
   "source": [
    "model.eval()\n",
    "\n",
    "with torch.no_grad():\n",
    "    preds2 = model(X_test)\n",
    "\n",
    "preds2 == preds"
   ]
  },
  {
   "cell_type": "code",
   "execution_count": null,
   "id": "84ac1b42",
   "metadata": {},
   "outputs": [],
   "source": []
  }
 ],
 "metadata": {
  "kernelspec": {
   "display_name": "silvercule",
   "language": "python",
   "name": "python3"
  },
  "language_info": {
   "codemirror_mode": {
    "name": "ipython",
    "version": 3
   },
   "file_extension": ".py",
   "mimetype": "text/x-python",
   "name": "python",
   "nbconvert_exporter": "python",
   "pygments_lexer": "ipython3",
   "version": "3.13.2"
  }
 },
 "nbformat": 4,
 "nbformat_minor": 5
}
