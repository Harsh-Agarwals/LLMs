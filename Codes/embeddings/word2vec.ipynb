{
 "cells": [
  {
   "cell_type": "markdown",
   "id": "aeee4ac4",
   "metadata": {},
   "source": [
    "# Word2Vec\n",
    "\n",
    "Word2Vec is a word embedding algorithm that converts words to embedding that are then fed into NLP/transformers models to train on the corpus of data. It is one of the revolutionary model for NLP that helped in building State Of The Art NLP task algorithms like Text summarizer, Sentence completion, Named Entity Recogintion, Langugage modelling, etc\n",
    "\n",
    "Word embeddings are basically representations where semantics and similarities are captured by encoding in a vector space - similar words would have similar representations.\n",
    "\n",
    "Word embeddings have become central idea to NLP, and is used everywhere.\n",
    "\n",
    "https://jalammar.github.io/illustrated-word2vec/\n",
    "\n",
    "**Word Embeddings are trained using Neural Language Modelling.**\n",
    "\n",
    "Here, we will implement Word2Vec paper from Scratch"
   ]
  },
  {
   "cell_type": "markdown",
   "id": "c8340438",
   "metadata": {},
   "source": []
  },
  {
   "cell_type": "code",
   "execution_count": null,
   "id": "eb47382c",
   "metadata": {},
   "outputs": [],
   "source": []
  }
 ],
 "metadata": {
  "kernelspec": {
   "display_name": "silvercule",
   "language": "python",
   "name": "python3"
  },
  "language_info": {
   "name": "python",
   "version": "3.13.2"
  }
 },
 "nbformat": 4,
 "nbformat_minor": 5
}
