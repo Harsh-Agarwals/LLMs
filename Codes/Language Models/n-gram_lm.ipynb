{
 "cells": [
  {
   "cell_type": "markdown",
   "id": "708a9552",
   "metadata": {},
   "source": [
    "# Let's build n-gram language model from Scratch\n",
    "\n",
    "\n",
    "### But what are language models?\n",
    "\n",
    "Language models are simple statistical or Neural Networks based model that predicts the next word in a sequence, given some previous words. When text corpus becomes too large, it is called as Large Language Models (LLMs).\n",
    "\n",
    "### What are the different ways available to train LMs?\n",
    "\n",
    "**Let's start with the dataset**\n",
    "\n",
    "For training a language model, we are needed with a large corpus of text which can be trained to understand the language of the text corpus and predict the next token. Some example can be codes, shakespeare texts, wiki text, etc text datasets\n",
    "\n",
    "**Models**\n",
    "\n",
    "Many models are there to train Language Models but these two are most widely used:\n",
    "- n-grams Language models\n",
    "- Neural language models\n",
    "\n",
    "N-grams is a statistical/probabilistic language model and neural language model is nerual network based language model, as the name suggest."
   ]
  },
  {
   "cell_type": "markdown",
   "id": "75c911f4",
   "metadata": {},
   "source": [
    "**In n-grams language models, we devise our training set from a text corpus using sliding window technique where every window consider n size words with last word as target and rest word/s as feature.**\n",
    "\n",
    "Eg. \"I live in Mumbai, India and is working as a\" \n",
    "\n",
    "Considering tri-grams data:\n",
    "\n",
    "Windows: \"I live in\", \"live in Mumbai\", \"in Mumbai ,\", and so on\n",
    "\n",
    "And training set: [\"I live\", \"live in\", \"in Mumbai\"], target: [\"in\", \"Mumbai\", \",\"]"
   ]
  }
 ],
 "metadata": {
  "kernelspec": {
   "display_name": "silvercule",
   "language": "python",
   "name": "python3"
  },
  "language_info": {
   "codemirror_mode": {
    "name": "ipython",
    "version": 3
   },
   "file_extension": ".py",
   "mimetype": "text/x-python",
   "name": "python",
   "nbconvert_exporter": "python",
   "pygments_lexer": "ipython3",
   "version": "3.13.2"
  }
 },
 "nbformat": 4,
 "nbformat_minor": 5
}
